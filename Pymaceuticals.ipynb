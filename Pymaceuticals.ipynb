{
 "cells": [
  {
   "cell_type": "markdown",
   "metadata": {},
   "source": [
    "## Observations and Insights"
   ]
  },
  {
   "cell_type": "markdown",
   "metadata": {},
   "source": []
  },
  {
   "cell_type": "markdown",
   "metadata": {},
   "source": [
    "## Dependencies and starter code"
   ]
  },
  {
   "cell_type": "code",
   "execution_count": null,
   "metadata": {},
   "outputs": [],
   "source": [
    "# Dependencies and Setup\n",
    "import matplotlib.pyplot as plt\n",
    "from scipy.stats import linregress\n",
    "import numpy as np\n",
    "import pandas as pd\n",
    "import scipy.stats as st\n",
    "\n",
    "# Study data files\n",
    "mouse_metadata = \"data/Mouse_metadata.csv\"\n",
    "study_results = \"data/Study_results.csv\"\n",
    "\n",
    "# Read the mouse data and the study results\n",
    "mouse_metadata_df = pd.read_csv(mouse_metadata)\n",
    "study_results_df = pd.read_csv(study_results)\n",
    "\n",
    "# Combine the data into a single dataset\n",
    "combined_data_df = pd.merge(mouse_metadata_df, study_results_df, how=\"left\", on=\"Mouse ID\")\n",
    "combined_data_df.head()"
   ]
  },
  {
   "cell_type": "markdown",
   "metadata": {},
   "source": [
    "## Summary statistics"
   ]
  },
  {
   "cell_type": "code",
   "execution_count": null,
   "metadata": {},
   "outputs": [],
   "source": [
    "# Generate a summary statistics table of mean, median, variance, standard deviation, and SEM of the tumor volume for each regimen\n",
    "                      \n",
    "\n",
    "regimen_avg = combined_data_df.groupby(\"Drug Regimen\")[\"Tumor Volume (mm3)\"].mean()\n",
    "regimen_median = combined_data_df.groupby(\"Drug Regimen\")[\"Tumor Volume (mm3)\"].median()\n",
    "regimen_var = combined_data_df.groupby(\"Drug Regimen\")[\"Tumor Volume (mm3)\"].var()\n",
    "regimen_std = combined_data_df.groupby(\"Drug Regimen\")[\"Tumor Volume (mm3)\"].std()\n",
    "regimen_sem = combined_data_df.groupby(\"Drug Regimen\")[\"Tumor Volume (mm3)\"].sem()\n",
    "\n",
    "\n",
    "regimen_df = pd.DataFrame({\"Mean\": regimen_avg, \"Median\": regimen_median, \n",
    "                           \"Variance\": regimen_var, \"Std Dev\": regimen_std, \"SEM\": regimen_sem})\n",
    "regimen_df\n",
    "\n",
    "\n"
   ]
  },
  {
   "cell_type": "markdown",
   "metadata": {},
   "source": [
    "## Bar plots"
   ]
  },
  {
   "cell_type": "code",
   "execution_count": null,
   "metadata": {},
   "outputs": [],
   "source": [
    "# Generate a bar plot showing number of data points for each treatment regimen using pandas\n",
    "#regimen_ct = combined_data_df[[\"Drug Regimen\"]].count()\n",
    "#regimen_ct\n",
    "\n",
    "regimen_treat = combined_data_df[[\"Drug Regimen\"]]\n",
    "\n",
    "data_pts_regimen = regimen_treat[\"Drug Regimen\"].value_counts()\n",
    "#data_pts_regimen\n",
    "\n",
    "pand_bplot = data_pts_regimen.plot.bar(x=\"Drug Treatment\", y=\"Count\",rot=90)\n",
    "pand_bplot"
   ]
  },
  {
   "cell_type": "code",
   "execution_count": null,
   "metadata": {
    "scrolled": true
   },
   "outputs": [],
   "source": [
    "# Generate a bar plot showing number of data points for each treatment regimen using pyplot\n",
    "\n",
    "x_axis = regimen_treat[\"Drug Regimen\"].unique()\n",
    "\n",
    "drug_regimen = regimen_treat[\"Drug Regimen\"].value_counts()\n",
    "\n",
    "plt.bar(x_axis, drug_regimen, color=\"b\", align=\"center\")\n",
    "plt.xticks(rotation=90)\n",
    "plt.title(\"Drug Regimen Volume\")\n",
    "plt.xlabel(\"Drug Regimen\")\n",
    "plt.ylabel(\"Count\")\n",
    "plt.xlim(-0.65, len(x_axis)-0.35)\n",
    "plt.ylim(0, max(drug_regimen)+25)\n",
    "\n",
    "\n"
   ]
  },
  {
   "cell_type": "markdown",
   "metadata": {},
   "source": [
    "## Pie plots"
   ]
  },
  {
   "cell_type": "code",
   "execution_count": null,
   "metadata": {},
   "outputs": [],
   "source": [
    "#Determine distinct values for Male and Females to be used for pandas pie chart\n",
    "male_female = combined_data_df[[\"Sex\"]]\n",
    "male_female_ct = male_female[\"Sex\"].value_counts()\n",
    "male_female_ct"
   ]
  },
  {
   "cell_type": "code",
   "execution_count": null,
   "metadata": {},
   "outputs": [],
   "source": [
    "# Generate a pie plot showing the distribution of female versus male mice using pandas\n",
    "\n",
    "mvf_df = pd.DataFrame({\"Sex\": [958, 935]}, index=[\"Male\", \"Female\"] )\n",
    "\n",
    "plot = mvf_df.plot(kind=\"pie\", y=\"Sex\", autopct='%1.1f%%', figsize=(5, 5))\n",
    "\n"
   ]
  },
  {
   "cell_type": "code",
   "execution_count": null,
   "metadata": {},
   "outputs": [],
   "source": [
    "# Generate a pie plot showing the distribution of female versus male mice using pyplot\n",
    "mice_sex = combined_data_df[[\"Sex\"]]\n",
    "\n",
    "labels = mice_sex[\"Sex\"].unique()\n",
    "sizes = mice_sex[\"Sex\"].value_counts()\n",
    "\n",
    "colors = [\"red\", \"blue\"]\n",
    "explode = (0,0)\n",
    "plt.pie(sizes, explode=explode, labels=labels, colors=colors, autopct=\"%1.1f%%\", startangle=0)"
   ]
  },
  {
   "cell_type": "markdown",
   "metadata": {},
   "source": [
    "## Quartiles, outliers and boxplots"
   ]
  },
  {
   "cell_type": "code",
   "execution_count": null,
   "metadata": {},
   "outputs": [],
   "source": [
    "# Calculate the final tumor volume of each mouse across four of the most promising treatment regimens.\n",
    "\n",
    "\n",
    "#Create Dataframe containing information related only to Campomulin, Ramicane, Infubinol, and Ceftamin\n",
    "promising_treatment_df = combined_data_df.loc[combined_data_df[\"Drug Regimen\"].isin([\"Capomulin\", \"Ramicane\", \"Infubinol\", \"Ceftamin\"])]\n",
    "\n",
    "#Calculate final tumor volume for each mouse ID for Campomulin, Ramicane, Infubinol, and Ceftamin\n",
    "tum_vol_promising_treatment = promising_treatment_df.groupby([\"Mouse ID\",\"Drug Regimen\"])[\"Tumor Volume (mm3)\"].last()\n",
    "\n",
    "#Create Dataframe with Final Tumor Volume by MouseID \n",
    "final_tum_vol_mid_df = pd.DataFrame({\"Final Tumor Volume (mm3)\": tum_vol_promising_treatment})\n",
    "final_tum_vol_mid_df\n",
    "\n",
    "\n",
    "\n"
   ]
  },
  {
   "cell_type": "code",
   "execution_count": null,
   "metadata": {},
   "outputs": [],
   "source": [
    "#Calculate the IQR and quantitatively determine if there are any potential outliers.\n",
    "\n",
    "final_tumor_volume = final_tum_vol_mid_df[\"Final Tumor Volume (mm3)\"]\n",
    "quartiles = final_tumor_volume.quantile([.25,.5,.75])\n",
    "lowerq = quartiles[0.25]\n",
    "upperq = quartiles[0.75]\n",
    "iqr = upperq-lowerq\n",
    "\n",
    "print(f\"The lower quartile of final tumor volumes for Capomulin, Ramicane, Infubinol, and Ceftamin is: {lowerq}\")\n",
    "print(f\"The upper quartile of final tumor volumes for Capomulin, Ramicane, Infubinol, and Ceftamin is: {upperq}\")\n",
    "print(f\"The interquartile of final tumor volumes for Capomulin, Ramicane, Infubinol, and Ceftamin is: {iqr}\")\n",
    "print(f\"The the median of final tumor volumes for Capomulin, Ramicane, Infubinol, and Ceftamin is: {quartiles[0.5]} \")\n",
    "\n",
    "lower_bound = lowerq - (1.5*iqr)\n",
    "upper_bound = upperq + (1.5*iqr)\n",
    "print(f\"Values below {lower_bound} would be outliers.\")\n",
    "print(f\"Values above {upper_bound} would be outliers.\")\n",
    "\n",
    "#Per the data, there are no outliers\n"
   ]
  },
  {
   "cell_type": "code",
   "execution_count": null,
   "metadata": {},
   "outputs": [],
   "source": [
    "# Generate a box plot of the final tumor volume of each mouse across four regimens of interest\n",
    "fig1, ax1 = plt.subplots()\n",
    "ax1.set_title(\"Final Tumor Volume across 4 Treatments\")\n",
    "ax1.set_ylabel(\"Tumor Volume (mm3)\")\n",
    "ax1.boxplot(final_tumor_volume)\n",
    "plt.show()"
   ]
  },
  {
   "cell_type": "markdown",
   "metadata": {},
   "source": [
    "## Line and scatter plots"
   ]
  },
  {
   "cell_type": "code",
   "execution_count": null,
   "metadata": {},
   "outputs": [],
   "source": [
    "# Generate a line plot of time point versus tumor volume for a mouse treated with Capomulin\n",
    "\n",
    "#Determine unique values for Timepoint that will be used for x-axis\n",
    "\n",
    "promising_treatment_cap_df = combined_data_df.loc[combined_data_df[\"Drug Regimen\"].isin([\"Capomulin\"])]\n",
    "time_point = promising_treatment_cap_df[[\"Timepoint\"]]\n",
    "\n",
    "\n",
    "\n",
    "#Set values for x and y values and create Scatterplot\n",
    "x_values = time_point\n",
    "y_values = promising_treatment_cap_df[[\"Tumor Volume (mm3)\"]]\n",
    "plt.title(\"Tumor Volume per Timepoint for Capomulin\")\n",
    "plt.scatter(x_values,y_values)\n",
    "plt.xlabel(\"Timepoint\")\n",
    "plt.ylabel(\"Tumor Volume (mm3) for Capomulin\")\n",
    "plt.show()\n",
    "\n"
   ]
  },
  {
   "cell_type": "code",
   "execution_count": null,
   "metadata": {},
   "outputs": [],
   "source": [
    "# Generate a scatter plot of mouse weight versus average tumor volume for the Capomulin regimen\n",
    "\n",
    "mouse_weight = promising_treatment_cap_df[[\"Weight (g)\"]]\n",
    "#mouse_weight\n",
    "\n",
    "tumor_vol_cap = promising_treatment_cap_df[[\"Tumor Volume (mm3)\"]]\n",
    "#tumor_vol_cap\n",
    "\n",
    "x_values = mouse_weight\n",
    "y_values = tumor_vol_cap\n",
    "plt.title(\"Tumor Volume by Mouse Weight for Capomulin\")\n",
    "plt.scatter(x_values,y_values)\n",
    "plt.xlabel(\"Mouse Weight\")\n",
    "plt.ylabel(\"Tumor Volume (mm3) for Capomulin\")\n",
    "plt.show()\n"
   ]
  },
  {
   "cell_type": "code",
   "execution_count": null,
   "metadata": {
    "scrolled": true
   },
   "outputs": [],
   "source": [
    "# Calculate the correlation coefficient and linear regression model for mouse weight and average tumor volume for the Capomulin regimen\n",
    "\n",
    "x_values = mouse_weight\n",
    "y_values = tumor_vol_cap\n",
    "(slope, intercept, rvalue, pvalue, stderr) = st.linregress(x_values, y_values)\n",
    "regress_values = x_values * slope + intercept\n",
    "line_eq = \"y = \" + str(round(slope,2)) + \"x + \" + str(round(intercept,2))\n",
    "plt.scatter(x_values,y_values)\n",
    "plt.plot(x_values,regress_values,\"r-\")\n",
    "plt.annotate(line_eq,(6,10),fontsize=15,color=\"red\")\n",
    "plt.xlabel(\"Mouse Weight (g)\")\n",
    "plt.ylabel(\"Tumor Volume (mm3) for Capomulin\")\n",
    "print(f\"The r-squared is: {rvalue}\")\n",
    "plt.show()"
   ]
  },
  {
   "cell_type": "code",
   "execution_count": null,
   "metadata": {},
   "outputs": [],
   "source": []
  }
 ],
 "metadata": {
  "anaconda-cloud": {},
  "kernelspec": {
   "display_name": "Python 3",
   "language": "python",
   "name": "python3"
  },
  "language_info": {
   "codemirror_mode": {
    "name": "ipython",
    "version": 3
   },
   "file_extension": ".py",
   "mimetype": "text/x-python",
   "name": "python",
   "nbconvert_exporter": "python",
   "pygments_lexer": "ipython3",
   "version": "3.6.10"
  }
 },
 "nbformat": 4,
 "nbformat_minor": 2
}
