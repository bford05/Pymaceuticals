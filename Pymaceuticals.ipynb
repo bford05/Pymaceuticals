{
 "cells": [
  {
   "cell_type": "markdown",
   "metadata": {},
   "source": [
    "## Observations and Insights"
   ]
  },
  {
   "cell_type": "markdown",
   "metadata": {},
   "source": []
  },
  {
   "cell_type": "markdown",
   "metadata": {},
   "source": [
    "## Dependencies and starter code"
   ]
  },
  {
   "cell_type": "code",
   "execution_count": 1,
   "metadata": {},
   "outputs": [
    {
     "data": {
      "text/html": [
       "<div>\n",
       "<style scoped>\n",
       "    .dataframe tbody tr th:only-of-type {\n",
       "        vertical-align: middle;\n",
       "    }\n",
       "\n",
       "    .dataframe tbody tr th {\n",
       "        vertical-align: top;\n",
       "    }\n",
       "\n",
       "    .dataframe thead th {\n",
       "        text-align: right;\n",
       "    }\n",
       "</style>\n",
       "<table border=\"1\" class=\"dataframe\">\n",
       "  <thead>\n",
       "    <tr style=\"text-align: right;\">\n",
       "      <th></th>\n",
       "      <th>Mouse ID</th>\n",
       "      <th>Drug Regimen</th>\n",
       "      <th>Sex</th>\n",
       "      <th>Age_months</th>\n",
       "      <th>Weight (g)</th>\n",
       "      <th>Timepoint</th>\n",
       "      <th>Tumor Volume (mm3)</th>\n",
       "      <th>Metastatic Sites</th>\n",
       "    </tr>\n",
       "  </thead>\n",
       "  <tbody>\n",
       "    <tr>\n",
       "      <th>0</th>\n",
       "      <td>k403</td>\n",
       "      <td>Ramicane</td>\n",
       "      <td>Male</td>\n",
       "      <td>21</td>\n",
       "      <td>16</td>\n",
       "      <td>0</td>\n",
       "      <td>45.000000</td>\n",
       "      <td>0</td>\n",
       "    </tr>\n",
       "    <tr>\n",
       "      <th>1</th>\n",
       "      <td>k403</td>\n",
       "      <td>Ramicane</td>\n",
       "      <td>Male</td>\n",
       "      <td>21</td>\n",
       "      <td>16</td>\n",
       "      <td>5</td>\n",
       "      <td>38.825898</td>\n",
       "      <td>0</td>\n",
       "    </tr>\n",
       "    <tr>\n",
       "      <th>2</th>\n",
       "      <td>k403</td>\n",
       "      <td>Ramicane</td>\n",
       "      <td>Male</td>\n",
       "      <td>21</td>\n",
       "      <td>16</td>\n",
       "      <td>10</td>\n",
       "      <td>35.014271</td>\n",
       "      <td>1</td>\n",
       "    </tr>\n",
       "    <tr>\n",
       "      <th>3</th>\n",
       "      <td>k403</td>\n",
       "      <td>Ramicane</td>\n",
       "      <td>Male</td>\n",
       "      <td>21</td>\n",
       "      <td>16</td>\n",
       "      <td>15</td>\n",
       "      <td>34.223992</td>\n",
       "      <td>1</td>\n",
       "    </tr>\n",
       "    <tr>\n",
       "      <th>4</th>\n",
       "      <td>k403</td>\n",
       "      <td>Ramicane</td>\n",
       "      <td>Male</td>\n",
       "      <td>21</td>\n",
       "      <td>16</td>\n",
       "      <td>20</td>\n",
       "      <td>32.997729</td>\n",
       "      <td>1</td>\n",
       "    </tr>\n",
       "  </tbody>\n",
       "</table>\n",
       "</div>"
      ],
      "text/plain": [
       "  Mouse ID Drug Regimen   Sex  Age_months  Weight (g)  Timepoint  \\\n",
       "0     k403     Ramicane  Male          21          16          0   \n",
       "1     k403     Ramicane  Male          21          16          5   \n",
       "2     k403     Ramicane  Male          21          16         10   \n",
       "3     k403     Ramicane  Male          21          16         15   \n",
       "4     k403     Ramicane  Male          21          16         20   \n",
       "\n",
       "   Tumor Volume (mm3)  Metastatic Sites  \n",
       "0           45.000000                 0  \n",
       "1           38.825898                 0  \n",
       "2           35.014271                 1  \n",
       "3           34.223992                 1  \n",
       "4           32.997729                 1  "
      ]
     },
     "execution_count": 1,
     "metadata": {},
     "output_type": "execute_result"
    }
   ],
   "source": [
    "# Dependencies and Setup\n",
    "import matplotlib.pyplot as plt\n",
    "from scipy.stats import linregress\n",
    "import numpy as np\n",
    "import pandas as pd\n",
    "import scipy.stats as st\n",
    "\n",
    "# Study data files\n",
    "mouse_metadata = \"data/Mouse_metadata.csv\"\n",
    "study_results = \"data/Study_results.csv\"\n",
    "\n",
    "# Read the mouse data and the study results\n",
    "mouse_metadata_df = pd.read_csv(mouse_metadata)\n",
    "study_results_df = pd.read_csv(study_results)\n",
    "\n",
    "# Combine the data into a single dataset\n",
    "combined_data_df = pd.merge(mouse_metadata_df, study_results_df, how=\"left\", on=\"Mouse ID\")\n",
    "combined_data_df.head()"
   ]
  },
  {
   "cell_type": "markdown",
   "metadata": {},
   "source": [
    "## Summary statistics"
   ]
  },
  {
   "cell_type": "code",
   "execution_count": 2,
   "metadata": {},
   "outputs": [
    {
     "data": {
      "text/html": [
       "<div>\n",
       "<style scoped>\n",
       "    .dataframe tbody tr th:only-of-type {\n",
       "        vertical-align: middle;\n",
       "    }\n",
       "\n",
       "    .dataframe tbody tr th {\n",
       "        vertical-align: top;\n",
       "    }\n",
       "\n",
       "    .dataframe thead th {\n",
       "        text-align: right;\n",
       "    }\n",
       "</style>\n",
       "<table border=\"1\" class=\"dataframe\">\n",
       "  <thead>\n",
       "    <tr style=\"text-align: right;\">\n",
       "      <th></th>\n",
       "      <th>Mean</th>\n",
       "      <th>Median</th>\n",
       "      <th>Variance</th>\n",
       "      <th>Std Dev</th>\n",
       "      <th>SEM</th>\n",
       "    </tr>\n",
       "    <tr>\n",
       "      <th>Drug Regimen</th>\n",
       "      <th></th>\n",
       "      <th></th>\n",
       "      <th></th>\n",
       "      <th></th>\n",
       "      <th></th>\n",
       "    </tr>\n",
       "  </thead>\n",
       "  <tbody>\n",
       "    <tr>\n",
       "      <th>Capomulin</th>\n",
       "      <td>40.675741</td>\n",
       "      <td>41.557809</td>\n",
       "      <td>24.947764</td>\n",
       "      <td>4.994774</td>\n",
       "      <td>0.329346</td>\n",
       "    </tr>\n",
       "    <tr>\n",
       "      <th>Ceftamin</th>\n",
       "      <td>52.591172</td>\n",
       "      <td>51.776157</td>\n",
       "      <td>39.290177</td>\n",
       "      <td>6.268188</td>\n",
       "      <td>0.469821</td>\n",
       "    </tr>\n",
       "    <tr>\n",
       "      <th>Infubinol</th>\n",
       "      <td>52.884795</td>\n",
       "      <td>51.820584</td>\n",
       "      <td>43.128684</td>\n",
       "      <td>6.567243</td>\n",
       "      <td>0.492236</td>\n",
       "    </tr>\n",
       "    <tr>\n",
       "      <th>Ketapril</th>\n",
       "      <td>55.235638</td>\n",
       "      <td>53.698743</td>\n",
       "      <td>68.553577</td>\n",
       "      <td>8.279709</td>\n",
       "      <td>0.603860</td>\n",
       "    </tr>\n",
       "    <tr>\n",
       "      <th>Naftisol</th>\n",
       "      <td>54.331565</td>\n",
       "      <td>52.509285</td>\n",
       "      <td>66.173479</td>\n",
       "      <td>8.134708</td>\n",
       "      <td>0.596466</td>\n",
       "    </tr>\n",
       "    <tr>\n",
       "      <th>Placebo</th>\n",
       "      <td>54.033581</td>\n",
       "      <td>52.288934</td>\n",
       "      <td>61.168083</td>\n",
       "      <td>7.821003</td>\n",
       "      <td>0.581331</td>\n",
       "    </tr>\n",
       "    <tr>\n",
       "      <th>Propriva</th>\n",
       "      <td>52.322552</td>\n",
       "      <td>50.854632</td>\n",
       "      <td>42.351070</td>\n",
       "      <td>6.507770</td>\n",
       "      <td>0.512884</td>\n",
       "    </tr>\n",
       "    <tr>\n",
       "      <th>Ramicane</th>\n",
       "      <td>40.216745</td>\n",
       "      <td>40.673236</td>\n",
       "      <td>23.486704</td>\n",
       "      <td>4.846308</td>\n",
       "      <td>0.320955</td>\n",
       "    </tr>\n",
       "    <tr>\n",
       "      <th>Stelasyn</th>\n",
       "      <td>54.233149</td>\n",
       "      <td>52.431737</td>\n",
       "      <td>59.450562</td>\n",
       "      <td>7.710419</td>\n",
       "      <td>0.573111</td>\n",
       "    </tr>\n",
       "    <tr>\n",
       "      <th>Zoniferol</th>\n",
       "      <td>53.236507</td>\n",
       "      <td>51.818479</td>\n",
       "      <td>48.533355</td>\n",
       "      <td>6.966589</td>\n",
       "      <td>0.516398</td>\n",
       "    </tr>\n",
       "  </tbody>\n",
       "</table>\n",
       "</div>"
      ],
      "text/plain": [
       "                   Mean     Median   Variance   Std Dev       SEM\n",
       "Drug Regimen                                                     \n",
       "Capomulin     40.675741  41.557809  24.947764  4.994774  0.329346\n",
       "Ceftamin      52.591172  51.776157  39.290177  6.268188  0.469821\n",
       "Infubinol     52.884795  51.820584  43.128684  6.567243  0.492236\n",
       "Ketapril      55.235638  53.698743  68.553577  8.279709  0.603860\n",
       "Naftisol      54.331565  52.509285  66.173479  8.134708  0.596466\n",
       "Placebo       54.033581  52.288934  61.168083  7.821003  0.581331\n",
       "Propriva      52.322552  50.854632  42.351070  6.507770  0.512884\n",
       "Ramicane      40.216745  40.673236  23.486704  4.846308  0.320955\n",
       "Stelasyn      54.233149  52.431737  59.450562  7.710419  0.573111\n",
       "Zoniferol     53.236507  51.818479  48.533355  6.966589  0.516398"
      ]
     },
     "execution_count": 2,
     "metadata": {},
     "output_type": "execute_result"
    }
   ],
   "source": [
    "# Generate a summary statistics table of mean, median, variance, standard deviation, and SEM of the tumor volume for each regimen            \n",
    "regimen_avg = combined_data_df.groupby(\"Drug Regimen\")[\"Tumor Volume (mm3)\"].mean()\n",
    "regimen_median = combined_data_df.groupby(\"Drug Regimen\")[\"Tumor Volume (mm3)\"].median()\n",
    "regimen_var = combined_data_df.groupby(\"Drug Regimen\")[\"Tumor Volume (mm3)\"].var()\n",
    "regimen_std = combined_data_df.groupby(\"Drug Regimen\")[\"Tumor Volume (mm3)\"].std()\n",
    "regimen_sem = combined_data_df.groupby(\"Drug Regimen\")[\"Tumor Volume (mm3)\"].sem()\n",
    "\n",
    "#Create data frame to display summary metrics\n",
    "regimen_df = pd.DataFrame({\"Mean\": regimen_avg, \"Median\": regimen_median, \n",
    "                           \"Variance\": regimen_var, \"Std Dev\": regimen_std, \"SEM\": regimen_sem})\n",
    "regimen_df\n",
    "\n",
    "\n"
   ]
  },
  {
   "cell_type": "markdown",
   "metadata": {},
   "source": [
    "## Bar plots"
   ]
  },
  {
   "cell_type": "code",
   "execution_count": 3,
   "metadata": {},
   "outputs": [
    {
     "data": {
      "text/plain": [
       "<matplotlib.axes._subplots.AxesSubplot at 0x2300ab215c0>"
      ]
     },
     "execution_count": 3,
     "metadata": {},
     "output_type": "execute_result"
    },
    {
     "data": {
      "image/png": "[encoded data removed]",
      "text/plain": [
       "<Figure size 432x288 with 1 Axes>"
      ]
     },
     "metadata": {
      "needs_background": "light"
     },
     "output_type": "display_data"
    }
   ],
   "source": [
    "# Generate a bar plot showing number of data points for each treatment regimen using pandas\n",
    "\n",
    "#Determine count of each drug regimen that has been administered\n",
    "regimen_treat = combined_data_df[[\"Drug Regimen\"]]\n",
    "data_pts_regimen = regimen_treat[\"Drug Regimen\"].value_counts()\n",
    "\n",
    "#Create bar plot\n",
    "pand_bplot = data_pts_regimen.plot.bar(x=\"Drug Treatment\", y=\"Count\",rot=90)\n",
    "plt.title(\"Drug Regimen Volume\")\n",
    "plt.xlabel(\"Drug Regimen\")\n",
    "plt.ylabel(\"Count\")\n",
    "pand_bplot"
   ]
  },
  {
   "cell_type": "code",
   "execution_count": 4,
   "metadata": {
    "scrolled": true
   },
   "outputs": [
    {
     "data": {
      "text/plain": [
       "(0, 255)"
      ]
     },
     "execution_count": 4,
     "metadata": {},
     "output_type": "execute_result"
    },
    {
     "data": {
      "image/png": "[encoded data removed]",
      "text/plain": [
       "<Figure size 432x288 with 1 Axes>"
      ]
     },
     "metadata": {
      "needs_background": "light"
     },
     "output_type": "display_data"
    }
   ],
   "source": [
    "# Generate a bar plot showing number of data points for each treatment regimen using pyplot\n",
    "\n",
    "#Determine count of each drug that has been administered \n",
    "x_axis = regimen_treat[\"Drug Regimen\"].unique()\n",
    "drug_regimen = regimen_treat[\"Drug Regimen\"].value_counts()\n",
    "\n",
    "#Create bar plot\n",
    "plt.bar(x_axis, drug_regimen, color=\"b\", align=\"center\")\n",
    "plt.xticks(rotation=90)\n",
    "plt.title(\"Drug Regimen Volume\")\n",
    "plt.xlabel(\"Drug Regimen\")\n",
    "plt.ylabel(\"Count\")\n",
    "plt.xlim(-0.65, len(x_axis)-0.35)\n",
    "plt.ylim(0, max(drug_regimen)+25)\n",
    "\n",
    "\n"
   ]
  },
  {
   "cell_type": "markdown",
   "metadata": {},
   "source": [
    "## Pie plots"
   ]
  },
  {
   "cell_type": "code",
   "execution_count": 5,
   "metadata": {},
   "outputs": [
    {
     "data": {
      "text/plain": [
       "Male      958\n",
       "Female    935\n",
       "Name: Sex, dtype: int64"
      ]
     },
     "execution_count": 5,
     "metadata": {},
     "output_type": "execute_result"
    }
   ],
   "source": [
    "#Determine distinct values for Male and Females to be used for pandas pie chart\n",
    "male_female = combined_data_df[[\"Sex\"]]\n",
    "male_female_ct = male_female[\"Sex\"].value_counts()\n",
    "male_female_ct"
   ]
  },
  {
   "cell_type": "code",
   "execution_count": 6,
   "metadata": {},
   "outputs": [
    {
     "data": {
      "image/png": "[encoded data removed]",
      "text/plain": [
       "<Figure size 360x360 with 1 Axes>"
      ]
     },
     "metadata": {},
     "output_type": "display_data"
    }
   ],
   "source": [
    "# Generate a pie plot showing the distribution of female versus male mice using pandas\n",
    "\n",
    "mvf_df = pd.DataFrame({\"Sex\": [958, 935]}, index=[\"Male\", \"Female\"] )\n",
    "plot = mvf_df.plot(kind=\"pie\", y=\"Sex\", autopct='%1.1f%%', figsize=(5, 5))\n",
    "\n"
   ]
  },
  {
   "cell_type": "code",
   "execution_count": 7,
   "metadata": {},
   "outputs": [
    {
     "data": {
      "text/plain": [
       "<matplotlib.legend.Legend at 0x2300b3929b0>"
      ]
     },
     "execution_count": 7,
     "metadata": {},
     "output_type": "execute_result"
    },
    {
     "data": {
      "image/png": "[encoded data removed]",
      "text/plain": [
       "<Figure size 432x288 with 1 Axes>"
      ]
     },
     "metadata": {},
     "output_type": "display_data"
    }
   ],
   "source": [
    "# Generate a pie plot showing the distribution of female versus male mice using pyplot\n",
    "mice_sex = combined_data_df[[\"Sex\"]]\n",
    "\n",
    "labels = mice_sex[\"Sex\"].unique()\n",
    "sizes = mice_sex[\"Sex\"].value_counts()\n",
    "\n",
    "colors = [\"red\", \"blue\"]\n",
    "explode = (0,0)\n",
    "plt.pie(sizes, explode=explode, labels=labels, colors=colors, autopct=\"%1.1f%%\", startangle=0)\n",
    "plt.legend(labels, loc=\"best\")"
   ]
  },
  {
   "cell_type": "markdown",
   "metadata": {},
   "source": [
    "## Quartiles, outliers and boxplots"
   ]
  },
  {
   "cell_type": "code",
   "execution_count": 8,
   "metadata": {},
   "outputs": [
    {
     "data": {
      "text/html": [
       "<div>\n",
       "<style scoped>\n",
       "    .dataframe tbody tr th:only-of-type {\n",
       "        vertical-align: middle;\n",
       "    }\n",
       "\n",
       "    .dataframe tbody tr th {\n",
       "        vertical-align: top;\n",
       "    }\n",
       "\n",
       "    .dataframe thead th {\n",
       "        text-align: right;\n",
       "    }\n",
       "</style>\n",
       "<table border=\"1\" class=\"dataframe\">\n",
       "  <thead>\n",
       "    <tr style=\"text-align: right;\">\n",
       "      <th></th>\n",
       "      <th></th>\n",
       "      <th>Final Tumor Volume (mm3)</th>\n",
       "    </tr>\n",
       "    <tr>\n",
       "      <th>Mouse ID</th>\n",
       "      <th>Drug Regimen</th>\n",
       "      <th></th>\n",
       "    </tr>\n",
       "  </thead>\n",
       "  <tbody>\n",
       "    <tr>\n",
       "      <th>a203</th>\n",
       "      <th>Infubinol</th>\n",
       "      <td>67.973419</td>\n",
       "    </tr>\n",
       "    <tr>\n",
       "      <th>a251</th>\n",
       "      <th>Infubinol</th>\n",
       "      <td>65.525743</td>\n",
       "    </tr>\n",
       "    <tr>\n",
       "      <th>a275</th>\n",
       "      <th>Ceftamin</th>\n",
       "      <td>62.999356</td>\n",
       "    </tr>\n",
       "    <tr>\n",
       "      <th>a411</th>\n",
       "      <th>Ramicane</th>\n",
       "      <td>38.407618</td>\n",
       "    </tr>\n",
       "    <tr>\n",
       "      <th>a444</th>\n",
       "      <th>Ramicane</th>\n",
       "      <td>43.047543</td>\n",
       "    </tr>\n",
       "    <tr>\n",
       "      <th>...</th>\n",
       "      <th>...</th>\n",
       "      <td>...</td>\n",
       "    </tr>\n",
       "    <tr>\n",
       "      <th>y769</th>\n",
       "      <th>Ceftamin</th>\n",
       "      <td>68.594745</td>\n",
       "    </tr>\n",
       "    <tr>\n",
       "      <th>y793</th>\n",
       "      <th>Capomulin</th>\n",
       "      <td>31.896238</td>\n",
       "    </tr>\n",
       "    <tr>\n",
       "      <th>y865</th>\n",
       "      <th>Ceftamin</th>\n",
       "      <td>64.729837</td>\n",
       "    </tr>\n",
       "    <tr>\n",
       "      <th>z578</th>\n",
       "      <th>Ramicane</th>\n",
       "      <td>30.638696</td>\n",
       "    </tr>\n",
       "    <tr>\n",
       "      <th>z581</th>\n",
       "      <th>Infubinol</th>\n",
       "      <td>62.754451</td>\n",
       "    </tr>\n",
       "  </tbody>\n",
       "</table>\n",
       "<p>100 rows × 1 columns</p>\n",
       "</div>"
      ],
      "text/plain": [
       "                       Final Tumor Volume (mm3)\n",
       "Mouse ID Drug Regimen                          \n",
       "a203     Infubinol                    67.973419\n",
       "a251     Infubinol                    65.525743\n",
       "a275     Ceftamin                     62.999356\n",
       "a411     Ramicane                     38.407618\n",
       "a444     Ramicane                     43.047543\n",
       "...                                         ...\n",
       "y769     Ceftamin                     68.594745\n",
       "y793     Capomulin                    31.896238\n",
       "y865     Ceftamin                     64.729837\n",
       "z578     Ramicane                     30.638696\n",
       "z581     Infubinol                    62.754451\n",
       "\n",
       "[100 rows x 1 columns]"
      ]
     },
     "execution_count": 8,
     "metadata": {},
     "output_type": "execute_result"
    }
   ],
   "source": [
    "# Calculate the final tumor volume of each mouse across four of the most promising treatment regimens.\n",
    "\n",
    "\n",
    "#Create Dataframe containing information related only to Capomulin, Ramicane, Infubinol, and Ceftamin\n",
    "promising_treatment_df = combined_data_df.loc[combined_data_df[\"Drug Regimen\"].isin([\"Capomulin\", \"Ramicane\", \"Infubinol\", \"Ceftamin\"])]\n",
    "\n",
    "#Calculate final tumor volume for each mouse ID for Capomulin, Ramicane, Infubinol, and Ceftamin\n",
    "tum_vol_promising_treatment = promising_treatment_df.groupby([\"Mouse ID\",\"Drug Regimen\"])[\"Tumor Volume (mm3)\"].last()\n",
    "\n",
    "#Create Dataframe with Final Tumor Volume for Capomulin, Ramicane, Infubinol, and Ceftamin by MouseID \n",
    "final_tum_vol_mid_df = pd.DataFrame({\"Final Tumor Volume (mm3)\": tum_vol_promising_treatment})\n",
    "final_tum_vol_mid_df\n",
    "\n"
   ]
  },
  {
   "cell_type": "code",
   "execution_count": 9,
   "metadata": {},
   "outputs": [
    {
     "data": {
      "text/plain": [
       "Mouse ID  Drug Regimen\n",
       "b128      Capomulin       38.982878\n",
       "b742      Capomulin       38.939633\n",
       "f966      Capomulin       30.485985\n",
       "g288      Capomulin       37.074024\n",
       "g316      Capomulin       40.159220\n",
       "i557      Capomulin       47.685963\n",
       "i738      Capomulin       37.311846\n",
       "j119      Capomulin       38.125164\n",
       "j246      Capomulin       38.753265\n",
       "l509      Capomulin       41.483008\n",
       "l897      Capomulin       38.846876\n",
       "m601      Capomulin       28.430964\n",
       "m957      Capomulin       33.329098\n",
       "r157      Capomulin       46.539206\n",
       "r554      Capomulin       32.377357\n",
       "r944      Capomulin       41.581521\n",
       "s185      Capomulin       23.343598\n",
       "s710      Capomulin       40.728578\n",
       "t565      Capomulin       34.455298\n",
       "u364      Capomulin       31.023923\n",
       "v923      Capomulin       40.658124\n",
       "w150      Capomulin       39.952347\n",
       "w914      Capomulin       36.041047\n",
       "x401      Capomulin       28.484033\n",
       "y793      Capomulin       31.896238\n",
       "Name: Tumor Volume (mm3), dtype: float64"
      ]
     },
     "execution_count": 9,
     "metadata": {},
     "output_type": "execute_result"
    }
   ],
   "source": [
    "#Calculate final tumor volume for Capomulin\n",
    "promising_treatment_cap_df = combined_data_df.loc[combined_data_df[\"Drug Regimen\"].isin([\"Capomulin\"])]\n",
    "tum_vol_promising_treatment_cap = promising_treatment_cap_df.groupby([\"Mouse ID\",\"Drug Regimen\"])[\"Tumor Volume (mm3)\"].last()\n",
    "tum_vol_promising_treatment_cap"
   ]
  },
  {
   "cell_type": "code",
   "execution_count": 10,
   "metadata": {},
   "outputs": [
    {
     "data": {
      "text/plain": [
       "Mouse ID  Drug Regimen\n",
       "a411      Ramicane        38.407618\n",
       "a444      Ramicane        43.047543\n",
       "a520      Ramicane        38.810366\n",
       "a644      Ramicane        32.978522\n",
       "c458      Ramicane        38.342008\n",
       "c758      Ramicane        33.397653\n",
       "d251      Ramicane        37.311236\n",
       "e662      Ramicane        40.659006\n",
       "g791      Ramicane        29.128472\n",
       "i177      Ramicane        33.562402\n",
       "i334      Ramicane        36.374510\n",
       "j913      Ramicane        31.560470\n",
       "j989      Ramicane        36.134852\n",
       "k403      Ramicane        22.050126\n",
       "m546      Ramicane        30.564625\n",
       "n364      Ramicane        31.095335\n",
       "q597      Ramicane        45.220869\n",
       "q610      Ramicane        36.561652\n",
       "r811      Ramicane        37.225650\n",
       "r921      Ramicane        43.419381\n",
       "s508      Ramicane        30.276232\n",
       "u196      Ramicane        40.667713\n",
       "w678      Ramicane        43.166373\n",
       "y449      Ramicane        44.183451\n",
       "z578      Ramicane        30.638696\n",
       "Name: Tumor Volume (mm3), dtype: float64"
      ]
     },
     "execution_count": 10,
     "metadata": {},
     "output_type": "execute_result"
    }
   ],
   "source": [
    "#Calculate final tumor volume for Ramicane\n",
    "promising_treatment_ram_df = combined_data_df.loc[combined_data_df[\"Drug Regimen\"].isin([\"Ramicane\"])]\n",
    "tum_vol_promising_treatment_ram = promising_treatment_ram_df.groupby([\"Mouse ID\",\"Drug Regimen\"])[\"Tumor Volume (mm3)\"].last()\n",
    "tum_vol_promising_treatment_ram"
   ]
  },
  {
   "cell_type": "code",
   "execution_count": 11,
   "metadata": {},
   "outputs": [
    {
     "data": {
      "text/plain": [
       "Mouse ID  Drug Regimen\n",
       "a203      Infubinol       67.973419\n",
       "a251      Infubinol       65.525743\n",
       "a577      Infubinol       57.031862\n",
       "a685      Infubinol       66.083066\n",
       "c139      Infubinol       72.226731\n",
       "c326      Infubinol       36.321346\n",
       "c895      Infubinol       60.969711\n",
       "e476      Infubinol       62.435404\n",
       "f345      Infubinol       60.918767\n",
       "i386      Infubinol       67.289621\n",
       "k483      Infubinol       66.196912\n",
       "k804      Infubinol       62.117279\n",
       "m756      Infubinol       47.010364\n",
       "n671      Infubinol       60.165180\n",
       "o809      Infubinol       55.629428\n",
       "o813      Infubinol       45.699331\n",
       "q132      Infubinol       54.656549\n",
       "s121      Infubinol       55.650681\n",
       "v339      Infubinol       46.250112\n",
       "v719      Infubinol       54.048608\n",
       "v766      Infubinol       51.542431\n",
       "w193      Infubinol       50.005138\n",
       "w584      Infubinol       58.268442\n",
       "y163      Infubinol       67.685569\n",
       "z581      Infubinol       62.754451\n",
       "Name: Tumor Volume (mm3), dtype: float64"
      ]
     },
     "execution_count": 11,
     "metadata": {},
     "output_type": "execute_result"
    }
   ],
   "source": [
    "#Calculate final tumor volume for Infubinol\n",
    "promising_treatment_inf_df = combined_data_df.loc[combined_data_df[\"Drug Regimen\"].isin([\"Infubinol\"])]\n",
    "tum_vol_promising_treatment_inf = promising_treatment_inf_df.groupby([\"Mouse ID\",\"Drug Regimen\"])[\"Tumor Volume (mm3)\"].last()\n",
    "tum_vol_promising_treatment_inf"
   ]
  },
  {
   "cell_type": "code",
   "execution_count": 12,
   "metadata": {},
   "outputs": [
    {
     "data": {
      "text/plain": [
       "Mouse ID  Drug Regimen\n",
       "a275      Ceftamin        62.999356\n",
       "b447      Ceftamin        45.000000\n",
       "b487      Ceftamin        56.057749\n",
       "b759      Ceftamin        55.742829\n",
       "f436      Ceftamin        48.722078\n",
       "h531      Ceftamin        47.784682\n",
       "j296      Ceftamin        61.849023\n",
       "k210      Ceftamin        68.923185\n",
       "l471      Ceftamin        67.748662\n",
       "l490      Ceftamin        57.918381\n",
       "l558      Ceftamin        46.784535\n",
       "l661      Ceftamin        59.851956\n",
       "l733      Ceftamin        64.299830\n",
       "o287      Ceftamin        59.741901\n",
       "p438      Ceftamin        61.433892\n",
       "q483      Ceftamin        64.192341\n",
       "t573      Ceftamin        45.000000\n",
       "u149      Ceftamin        52.925348\n",
       "u153      Ceftamin        45.000000\n",
       "w151      Ceftamin        67.527482\n",
       "x226      Ceftamin        45.000000\n",
       "x581      Ceftamin        64.634949\n",
       "x822      Ceftamin        61.386660\n",
       "y769      Ceftamin        68.594745\n",
       "y865      Ceftamin        64.729837\n",
       "Name: Tumor Volume (mm3), dtype: float64"
      ]
     },
     "execution_count": 12,
     "metadata": {},
     "output_type": "execute_result"
    }
   ],
   "source": [
    "#Calculate final tumor volume for Ceftamin\n",
    "promising_treatment_cef_df = combined_data_df.loc[combined_data_df[\"Drug Regimen\"].isin([\"Ceftamin\"])]\n",
    "tum_vol_promising_treatment_cef = promising_treatment_cef_df.groupby([\"Mouse ID\",\"Drug Regimen\"])[\"Tumor Volume (mm3)\"].last()\n",
    "tum_vol_promising_treatment_cef"
   ]
  },
  {
   "cell_type": "code",
   "execution_count": 13,
   "metadata": {},
   "outputs": [
    {
     "name": "stdout",
     "output_type": "stream",
     "text": [
      "The lower quartile of final tumor volumes for Capomulin is: 32.37735684\n",
      "The upper quartile of final tumor volumes for Capomulin is: 40.1592203\n",
      "The interquartile of final tumor volumes for Capomulin is: 7.781863460000004\n",
      "The the median of final tumor volumes for Capomulin is: 38.125164399999996 \n",
      "Values below 20.70456164999999 could be outliers.\n",
      "Values above 51.83201549 could be outliers.\n"
     ]
    }
   ],
   "source": [
    "#Calculate the IQR and quantitatively determine if there are any potential outliers.\n",
    "\n",
    "#Calculate IQR for Capomulin\n",
    "\n",
    "quartiles = tum_vol_promising_treatment_cap.quantile([.25,.5,.75])\n",
    "lowerq = quartiles[0.25]\n",
    "upperq = quartiles[0.75]\n",
    "iqr = upperq-lowerq\n",
    "\n",
    "print(f\"The lower quartile of final tumor volumes for Capomulin is: {lowerq}\")\n",
    "print(f\"The upper quartile of final tumor volumes for Capomulin is: {upperq}\")\n",
    "print(f\"The interquartile of final tumor volumes for Capomulin is: {iqr}\")\n",
    "print(f\"The the median of final tumor volumes for Capomulin is: {quartiles[0.5]} \")\n",
    "\n",
    "lower_bound = lowerq - (1.5*iqr)\n",
    "upper_bound = upperq + (1.5*iqr)\n",
    "print(f\"Values below {lower_bound} could be outliers.\")\n",
    "print(f\"Values above {upper_bound} could be outliers.\")\n",
    "\n",
    "#No outliers identified"
   ]
  },
  {
   "cell_type": "code",
   "execution_count": 14,
   "metadata": {},
   "outputs": [
    {
     "name": "stdout",
     "output_type": "stream",
     "text": [
      "The lower quartile of final tumor volumes for Ramicane is: 31.56046955\n",
      "The upper quartile of final tumor volumes for Ramicane is: 40.65900627\n",
      "The interquartile of final tumor volumes for Ramicane is: 9.098536719999998\n",
      "The the median of final tumor volumes for Ramicane is: 36.56165229 \n",
      "Values below 17.912664470000003 could be outliers.\n",
      "Values above 54.30681135 could be outliers.\n"
     ]
    }
   ],
   "source": [
    "#Calculate the IQR and quantitatively determine if there are any potential outliers.\n",
    "\n",
    "#Calculate IQR for Ramicane\n",
    "quartiles = tum_vol_promising_treatment_ram.quantile([.25,.5,.75])\n",
    "lowerq = quartiles[0.25]\n",
    "upperq = quartiles[0.75]\n",
    "iqr = upperq-lowerq\n",
    "\n",
    "print(f\"The lower quartile of final tumor volumes for Ramicane is: {lowerq}\")\n",
    "print(f\"The upper quartile of final tumor volumes for Ramicane is: {upperq}\")\n",
    "print(f\"The interquartile of final tumor volumes for Ramicane is: {iqr}\")\n",
    "print(f\"The the median of final tumor volumes for Ramicane is: {quartiles[0.5]} \")\n",
    "\n",
    "lower_bound = lowerq - (1.5*iqr)\n",
    "upper_bound = upperq + (1.5*iqr)\n",
    "print(f\"Values below {lower_bound} could be outliers.\")\n",
    "print(f\"Values above {upper_bound} could be outliers.\")\n",
    "\n",
    "#No outliers identified"
   ]
  },
  {
   "cell_type": "code",
   "execution_count": 15,
   "metadata": {},
   "outputs": [
    {
     "name": "stdout",
     "output_type": "stream",
     "text": [
      "The lower quartile of final tumor volumes for Ramicane is: 54.04860769\n",
      "The upper quartile of final tumor volumes for Ramicane is: 65.52574285\n",
      "The interquartile of final tumor volumes for Ramicane is: 11.477135160000003\n",
      "The the median of final tumor volumes for Ramicane is: 60.16518046 \n",
      "Values below 36.83290494999999 could be outliers.\n",
      "Values above 82.74144559000001 could be outliers.\n"
     ]
    }
   ],
   "source": [
    "#Calculate the IQR and quantitatively determine if there are any potential outliers.\n",
    "\n",
    "#Calculate IQR for Infubinol\n",
    "quartiles = tum_vol_promising_treatment_inf.quantile([.25,.5,.75])\n",
    "lowerq = quartiles[0.25]\n",
    "upperq = quartiles[0.75]\n",
    "iqr = upperq-lowerq\n",
    "\n",
    "print(f\"The lower quartile of final tumor volumes for Ramicane is: {lowerq}\")\n",
    "print(f\"The upper quartile of final tumor volumes for Ramicane is: {upperq}\")\n",
    "print(f\"The interquartile of final tumor volumes for Ramicane is: {iqr}\")\n",
    "print(f\"The the median of final tumor volumes for Ramicane is: {quartiles[0.5]} \")\n",
    "\n",
    "lower_bound = lowerq - (1.5*iqr)\n",
    "upper_bound = upperq + (1.5*iqr)\n",
    "print(f\"Values below {lower_bound} could be outliers.\")\n",
    "print(f\"Values above {upper_bound} could be outliers.\")\n",
    "\n",
    "#One potential outlier identified "
   ]
  },
  {
   "cell_type": "code",
   "execution_count": 16,
   "metadata": {},
   "outputs": [
    {
     "name": "stdout",
     "output_type": "stream",
     "text": [
      "The lower quartile of final tumor volumes for Ramicane is: 48.72207785\n",
      "The upper quartile of final tumor volumes for Ramicane is: 64.29983003\n",
      "The interquartile of final tumor volumes for Ramicane is: 15.577752179999997\n",
      "The the median of final tumor volumes for Ramicane is: 59.85195552 \n",
      "Values below 25.355449580000002 could be outliers.\n",
      "Values above 87.66645829999999 could be outliers.\n"
     ]
    }
   ],
   "source": [
    "#Calculate the IQR and quantitatively determine if there are any potential outliers.\n",
    "\n",
    "#Calculate IQR for Ceftamen\n",
    "quartiles = tum_vol_promising_treatment_cef.quantile([.25,.5,.75])\n",
    "lowerq = quartiles[0.25]\n",
    "upperq = quartiles[0.75]\n",
    "iqr = upperq-lowerq\n",
    "\n",
    "print(f\"The lower quartile of final tumor volumes for Ramicane is: {lowerq}\")\n",
    "print(f\"The upper quartile of final tumor volumes for Ramicane is: {upperq}\")\n",
    "print(f\"The interquartile of final tumor volumes for Ramicane is: {iqr}\")\n",
    "print(f\"The the median of final tumor volumes for Ramicane is: {quartiles[0.5]} \")\n",
    "\n",
    "lower_bound = lowerq - (1.5*iqr)\n",
    "upper_bound = upperq + (1.5*iqr)\n",
    "print(f\"Values below {lower_bound} could be outliers.\")\n",
    "print(f\"Values above {upper_bound} could be outliers.\")\n",
    "\n",
    "#No outliers identified"
   ]
  },
  {
   "cell_type": "code",
   "execution_count": 17,
   "metadata": {},
   "outputs": [
    {
     "data": {
      "image/png": "[encoded data removed]",
      "text/plain": [
       "<Figure size 432x288 with 1 Axes>"
      ]
     },
     "metadata": {
      "needs_background": "light"
     },
     "output_type": "display_data"
    }
   ],
   "source": [
    "# Generate a box plot of the final tumor volume of each mouse across four regimens of interest\n",
    "\n",
    "#Create boxplots for Capomulin, Ramicane, Infubinol, and Ceftamin\n",
    "fig1, ax1 = plt.subplots()\n",
    "ax1.set_title(\"Final Tumor Volume across 4 Treatments\")\n",
    "ax1.set_xlabel(\"Drug Regimen\")\n",
    "ax1.set_xticklabels([\"Capomulin\", \"Ramicane\", \"Infubinol\", \"Ceftamin\"])\n",
    "ax1.set_ylabel(\"Tumor Volume (mm3)\")\n",
    "flierprops = dict(marker='o', markerfacecolor='red', markersize=15, linestyle='none')\n",
    "ax1.boxplot([tum_vol_promising_treatment_cap, tum_vol_promising_treatment_ram, tum_vol_promising_treatment_inf, tum_vol_promising_treatment_cef], flierprops=flierprops)\n",
    "plt.show()"
   ]
  },
  {
   "cell_type": "markdown",
   "metadata": {},
   "source": [
    "## Line and scatter plots"
   ]
  },
  {
   "cell_type": "code",
   "execution_count": 18,
   "metadata": {},
   "outputs": [
    {
     "data": {
      "image/png": "[encoded data removed]",
      "text/plain": [
       "<Figure size 432x288 with 1 Axes>"
      ]
     },
     "metadata": {
      "needs_background": "light"
     },
     "output_type": "display_data"
    }
   ],
   "source": [
    "# Generate a line plot of time point versus tumor volume for a mouse treated with Capomulin\n",
    "\n",
    "#Determine final tumor volume for a mouse treated with Capomulin\n",
    "\n",
    "promising_treatment_cap_df = combined_data_df.loc[combined_data_df[\"Drug Regimen\"]== \"Capomulin\"]\n",
    "promising_treatment_cap_mouse_df = promising_treatment_cap_df.loc[promising_treatment_cap_df[\"Mouse ID\"]== \"s185\"]\n",
    " \n",
    "    \n",
    "#Determine time point values associated with the final tumor volume of mice treated with Capomulin\n",
    "plt.plot(promising_treatment_cap_mouse_df[\"Timepoint\"], promising_treatment_cap_mouse_df[\"Tumor Volume (mm3)\"])\n",
    "\n",
    "\n",
    "#Create Scatterplot\n",
    "#x_values = time_point\n",
    "#y_values = promising_treatment_cap_df[\"Tumor Volume (mm3)\"]\n",
    "plt.title(\"Tumor Volume per Timepoint for Capomulin\")\n",
    "#plt.scatter(x_values,y_values)\n",
    "plt.xlabel(\"Timepoint\")\n",
    "plt.ylabel(\"Tumor Volume (mm3) for Capomulin\")\n",
    "plt.show()\n",
    "\n"
   ]
  },
  {
   "cell_type": "code",
   "execution_count": 19,
   "metadata": {},
   "outputs": [
    {
     "data": {
      "image/png": "[encoded data removed]",
      "text/plain": [
       "<Figure size 432x288 with 1 Axes>"
      ]
     },
     "metadata": {
      "needs_background": "light"
     },
     "output_type": "display_data"
    }
   ],
   "source": [
    "# Generate a scatter plot of mouse weight versus average tumor volume for the Capomulin regimen\n",
    "\n",
    "#Determine mouse weight for mice treated with Capomulin\n",
    "mouse_weight = promising_treatment_cap_df[\"Weight (g)\"]\n",
    "\n",
    "#Determine tumor volume for mice treated with Capomulin\n",
    "tumor_vol_cap = promising_treatment_cap_df[\"Tumor Volume (mm3)\"]\n",
    "\n",
    "#Create Scatterplot\n",
    "x_values = mouse_weight\n",
    "y_values = tumor_vol_cap\n",
    "plt.title(\"Tumor Volume by Mouse Weight for Capomulin\")\n",
    "plt.scatter(x_values,y_values)\n",
    "plt.xlabel(\"Mouse Weight\")\n",
    "plt.ylabel(\"Tumor Volume (mm3) for Capomulin\")\n",
    "plt.show()\n"
   ]
  },
  {
   "cell_type": "code",
   "execution_count": 20,
   "metadata": {
    "scrolled": true
   },
   "outputs": [
    {
     "name": "stdout",
     "output_type": "stream",
     "text": [
      "The r-squared is: 0.5256995552077166\n"
     ]
    },
    {
     "data": {
      "image/png": "[encoded data removed]",
      "text/plain": [
       "<Figure size 432x288 with 1 Axes>"
      ]
     },
     "metadata": {
      "needs_background": "light"
     },
     "output_type": "display_data"
    }
   ],
   "source": [
    "# Calculate the correlation coefficient and linear regression model for mouse weight and average tumor volume for the Capomulin regimen\n",
    "\n",
    "x_values = mouse_weight\n",
    "y_values = tumor_vol_cap\n",
    "(slope, intercept, rvalue, pvalue, stderr) = linregress(x_values, y_values)\n",
    "regress_values = x_values * slope + intercept\n",
    "line_eq = \"y = \" + str(round(slope,2)) + \"x + \" + str(round(intercept,2))\n",
    "plt.scatter(x_values,y_values)\n",
    "plt.plot(x_values,regress_values,\"r-\")\n",
    "plt.annotate(line_eq,(20,32),fontsize=15,color=\"red\")\n",
    "plt.xlabel(\"Weight (g) of Mouse\")\n",
    "plt.ylabel(\"Tumor Volume (mm3)\")\n",
    "print(f\"The r-squared is: {rvalue}\")\n",
    "plt.show()"
   ]
  },
  {
   "cell_type": "markdown",
   "metadata": {},
   "source": [
    "#Analysis--3 observations from Line and Scatter plots\n",
    "- For the Capomulin drug, the tumor volume decreases over time. One can infer that the drug is effective in curing the tumor the longer it stays in the mice system.\n",
    "\n",
    "- The mouse weight increases as the tumor volume increases which logically makes sense. The increase in mouse weight is associated with the tumor volume.\n",
    "\n",
    "- There is a positive correlation between weight of mouse and tumor volume for Capomulin. The correlation is moderate between the variables and shows the tumor volume is a source or contributor the the weight of the mouse."
   ]
  }
 ],
 "metadata": {
  "anaconda-cloud": {},
  "kernelspec": {
   "display_name": "Python 3",
   "language": "python",
   "name": "python3"
  },
  "language_info": {
   "codemirror_mode": {
    "name": "ipython",
    "version": 3
   },
   "file_extension": ".py",
   "mimetype": "text/x-python",
   "name": "python",
   "nbconvert_exporter": "python",
   "pygments_lexer": "ipython3",
   "version": "3.6.10"
  }
 },
 "nbformat": 4,
 "nbformat_minor": 2
}
